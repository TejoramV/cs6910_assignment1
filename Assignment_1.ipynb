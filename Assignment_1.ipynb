{
  "nbformat": 4,
  "nbformat_minor": 0,
  "metadata": {
    "colab": {
      "name": "Assignment_1.ipynb",
      "provenance": [],
      "authorship_tag": "ABX9TyOOGWUKXOvK2A6YbTUi3v05"
    },
    "kernelspec": {
      "name": "python3",
      "display_name": "Python 3"
    },
    "language_info": {
      "name": "python"
    }
  },
  "cells": [
    {
      "cell_type": "code",
      "execution_count": 2,
      "metadata": {
        "id": "vk9LKi51h2ef",
        "colab": {
          "base_uri": "https://localhost:8080/"
        },
        "outputId": "8d9a5b21-1996-4f31-f9e3-93e98bb1de6e"
      },
      "outputs": [
        {
          "output_type": "stream",
          "name": "stdout",
          "text": [
            "Downloading data from https://storage.googleapis.com/tensorflow/tf-keras-datasets/train-labels-idx1-ubyte.gz\n",
            "32768/29515 [=================================] - 0s 0us/step\n",
            "40960/29515 [=========================================] - 0s 0us/step\n",
            "Downloading data from https://storage.googleapis.com/tensorflow/tf-keras-datasets/train-images-idx3-ubyte.gz\n",
            "26427392/26421880 [==============================] - 0s 0us/step\n",
            "26435584/26421880 [==============================] - 0s 0us/step\n",
            "Downloading data from https://storage.googleapis.com/tensorflow/tf-keras-datasets/t10k-labels-idx1-ubyte.gz\n",
            "16384/5148 [===============================================================================================] - 0s 0us/step\n",
            "Downloading data from https://storage.googleapis.com/tensorflow/tf-keras-datasets/t10k-images-idx3-ubyte.gz\n",
            "4423680/4422102 [==============================] - 0s 0us/step\n",
            "4431872/4422102 [==============================] - 0s 0us/step\n"
          ]
        }
      ],
      "source": [
        "from keras.datasets import fashion_mnist\n",
        "dataset= fashion_mnist.load_data()\n",
        "(X_train, y_train), (X_test, y_test) = dataset"
      ]
    },
    {
      "cell_type": "code",
      "source": [
        "print(X_train.shape)\n",
        "print(y_train.shape)\n",
        " \n",
        "print(X_test.shape)\n",
        "print(y_test.shape)"
      ],
      "metadata": {
        "id": "lLZWiHVUkL05",
        "colab": {
          "base_uri": "https://localhost:8080/"
        },
        "outputId": "9924958a-3c83-48ed-bfe8-eaa2a52c797b"
      },
      "execution_count": 3,
      "outputs": [
        {
          "output_type": "stream",
          "name": "stdout",
          "text": [
            "(60000, 28, 28)\n",
            "(60000,)\n",
            "(10000, 28, 28)\n",
            "(10000,)\n"
          ]
        }
      ]
    },
    {
      "cell_type": "code",
      "source": [
        "sorted_arr = [-1] * 10\n",
        "\n",
        "for x in range(10):\n",
        "  boolean = 0\n",
        "  sample = 0\n",
        "  while(boolean == 0):\n",
        "    if x == y_train[sample]:\n",
        "      boolean = 1\n",
        "      sorted_arr[x]=sample\n",
        "    sample=sample+1\n",
        "    \n",
        "print(sorted_arr)\n"
      ],
      "metadata": {
        "colab": {
          "base_uri": "https://localhost:8080/"
        },
        "id": "jNgeVPXLaPJ_",
        "outputId": "6a2ccbf3-19ff-4f1b-cdd0-4259b7900d5c"
      },
      "execution_count": 29,
      "outputs": [
        {
          "output_type": "stream",
          "name": "stdout",
          "text": [
            "[1, 16, 5, 3, 19, 8, 18, 6, 23, 0]\n"
          ]
        }
      ]
    }
  ]
}