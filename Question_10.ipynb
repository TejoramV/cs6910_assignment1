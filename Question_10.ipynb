{
  "cells": [
    {
      "cell_type": "markdown",
      "metadata": {
        "id": "view-in-github",
        "colab_type": "text"
      },
      "source": [
        "<a href=\"https://colab.research.google.com/github/TejoramV/cs6910_assignment1/blob/main/Question_10.ipynb\" target=\"_parent\"><img src=\"https://colab.research.google.com/assets/colab-badge.svg\" alt=\"Open In Colab\"/></a>"
      ]
    },
    {
      "cell_type": "markdown",
      "metadata": {
        "id": "dtPrdYiS0Gp5"
      },
      "source": [
        "\n",
        "\n",
        "\n",
        "# CS6910 Assignment-1"
      ]
    },
    {
      "cell_type": "markdown",
      "metadata": {
        "id": "KSt87eAa0Gp6"
      },
      "source": [
        "by\n",
        "- Akansh Maurya (CS22Z003)\n",
        "- Tejoram Vivekanandan (EE22Z001)"
      ]
    },
    {
      "cell_type": "code",
      "execution_count": 1,
      "metadata": {
        "id": "P-vPuna71_pW"
      },
      "outputs": [],
      "source": [
        "from keras.datasets import mnist\n",
        "import numpy as np\n",
        "from  matplotlib import pyplot as plt\n",
        "import time\n",
        "import math\n",
        "from sklearn.model_selection import train_test_split\n",
        "from tqdm.auto import tqdm"
      ]
    },
    {
      "cell_type": "markdown",
      "metadata": {
        "id": "KUZstREBMqW1"
      },
      "source": [
        "### Question 1: Loading and ploting the dataset"
      ]
    },
    {
      "cell_type": "code",
      "execution_count": 2,
      "metadata": {
        "id": "vk9LKi51h2ef",
        "colab": {
          "base_uri": "https://localhost:8080/"
        },
        "outputId": "9f058545-44cc-4512-dc76-e013fbb8e4d7"
      },
      "outputs": [
        {
          "output_type": "stream",
          "name": "stdout",
          "text": [
            "Downloading data from https://storage.googleapis.com/tensorflow/tf-keras-datasets/mnist.npz\n",
            "11493376/11490434 [==============================] - 0s 0us/step\n",
            "11501568/11490434 [==============================] - 0s 0us/step\n",
            "Train Dataset Shape:  (54000, 28, 28)\n",
            "Train Target Vector Shape:  (54000,)\n",
            "Test Dataset Shape: (10000, 28, 28)\n",
            "Test Target Vector Shape (10000,)\n",
            "Validation Dataset Shape: (6000, 28, 28)\n",
            "Validation Target Vector Shape (6000,)\n"
          ]
        }
      ],
      "source": [
        "dataset= mnist.load_data()\n",
        "(X_train_and_validation, y_train_and_validation), (X_test, y_test) = dataset\n",
        "X_train, X_validation, y_train, y_validation = train_test_split(X_train_and_validation, y_train_and_validation, test_size=0.1, random_state=42)\n",
        "X_train = (X_train/255.0).astype(np.float32)\n",
        "X_validation = (X_validation/255.0).astype(np.float32)\n",
        "X_test = (X_test/255.0).astype(np.float32)\n",
        "\n",
        "print(\"Train Dataset Shape: \", X_train.shape)\n",
        "print(\"Train Target Vector Shape: \", y_train.shape) \n",
        "print(\"Test Dataset Shape:\", X_test.shape)\n",
        "print(\"Test Target Vector Shape\", y_test.shape)\n",
        "print(\"Validation Dataset Shape:\", X_validation.shape)\n",
        "print(\"Validation Target Vector Shape\", y_validation.shape)\n",
        "\n",
        "\n"
      ]
    },
    {
      "cell_type": "code",
      "execution_count": 3,
      "metadata": {
        "id": "lLZWiHVUkL05"
      },
      "outputs": [],
      "source": [
        "X_train = np.array(X_train.reshape(X_train.shape[0], 784,1))         \n",
        "X_test = np.array(X_test.reshape(X_test.shape[0], 784,1))\n",
        "X_validation = np.array(X_validation.reshape(X_validation.shape[0], 784,1))"
      ]
    },
    {
      "cell_type": "markdown",
      "metadata": {
        "id": "kgV1JgmlNcbx"
      },
      "source": [
        "**Implement a feedforward and backpropagation**"
      ]
    },
    {
      "cell_type": "code",
      "execution_count": 4,
      "metadata": {
        "id": "5WdFI5xebOk-"
      },
      "outputs": [],
      "source": [
        "#Activation function\n",
        "def activation(activation_function):\n",
        "  if activation_function == 'sigmoid':\n",
        "    return sigmoid\n",
        "  if activation_function == 'tanh':\n",
        "    return tanh\n",
        "  if activation_function == 'ReLU':\n",
        "    return relu\n",
        "\n",
        "def sigmoid(x, derivative = False):\n",
        "  if derivative:\n",
        "    return sigmoid(x)*(1-sigmoid(x))\n",
        "  return 1/(1 + np.exp(-x))  \n",
        "\n",
        "def tanh(x, derivative = False):\n",
        "  if derivative:\n",
        "    return 1 - tanh(x)**2\n",
        "  return (np.exp(x)-np.exp(-x))/(np.exp(x)+np.exp(-x))\n",
        "\n",
        "def relu(x, derivative = False):\n",
        "  if derivative:\n",
        "    return (x>0)*1 \n",
        "  return x*(x>0)\n",
        "\n",
        "def softmax(x,derivative = False):\n",
        "  if derivative:\n",
        "    return softmax(x)*(1- softmax(x))\n",
        "  return np.exp(x)/np.sum(np.exp(x), axis = 0)\n",
        "\n",
        "def one_hot(y, num_output_nodes):\n",
        "  v = np.zeros((num_output_nodes, len(y)))\n",
        "  for i,j in enumerate(y):\n",
        "    v[j,i] = 1\n",
        "  return v\n",
        "\n",
        "### Weight Initialization\n",
        "def param_inint(num_inputs_nodes, hidden_layers, num_output_nodes, init_type):\n",
        "  W = []\n",
        "  B = []\n",
        "  if init_type == \"random\":\n",
        "    W.append(np.random.randn(hidden_layers[0],num_inputs_nodes)*0.1)\n",
        "    B.append(np.random.randn(hidden_layers[0], 1)*0.1)\n",
        "    for i in range(len(hidden_layers)-1):\n",
        "      W.append(np.random.randn(hidden_layers[i+1],hidden_layers[i])*0.1)\n",
        "      B.append(np.random.randn(hidden_layers[i+1], 1)*0.1)\n",
        "    W.append(np.random.randn(num_output_nodes, hidden_layers[-1])*0.1)\n",
        "    B.append(np.random.randn(num_output_nodes, 1)*0.1)\n",
        "    return W, B\n",
        "\n",
        "  if init_type == \"xavier\":\n",
        "    W.append(np.random.randn(hidden_layers[0],num_inputs_nodes)*np.sqrt(2/(hidden_layers[0] + num_inputs_nodes)))\n",
        "    B.append(np.random.randn(hidden_layers[0], 1)*0.1)\n",
        "    for i in range(len(hidden_layers)-1):\n",
        "      W.append(np.random.randn(hidden_layers[i+1],hidden_layers[i])*np.sqrt(2/(hidden_layers[i+1] + hidden_layers[i])))\n",
        "      B.append(np.random.randn(hidden_layers[i+1], 1)*0.1)\n",
        "    W.append(np.random.randn(num_output_nodes, hidden_layers[-1])*np.sqrt(2/(num_output_nodes + hidden_layers[-1])))\n",
        "    B.append(np.random.randn(num_output_nodes, 1)*0.1)\n",
        "    return W, B\n",
        "\n",
        "\n",
        "def feed_forward(x, W, B, activation_type):\n",
        "  h = []\n",
        "  a = []\n",
        "  sigma = activation(activation_type)  #activation\n",
        "  h.append(x)   #h0 = x\n",
        "  a.append(np.dot(W[0], h[0]) + B[0])\n",
        "  for i in range(len(W)-1):\n",
        "    h.append(sigma(a[-1]))\n",
        "    a.append(np.dot(W[i+1], h[-1]) + B[i+1])\n",
        "  y_hat = softmax(a[-1])\n",
        "\n",
        "  return y_hat, h, a\n",
        "\n",
        "\n",
        "\n",
        "def loss_compute(y,y_hat, loss_type, W, reg_lamda):\n",
        "  if loss_type == \"squared_error\":\n",
        "    error = np.sum((one_hot(y, 10)-y_hat)**2)/(2*one_hot(y, 10).shape[1])\n",
        "  if loss_type == \"cross_entropy\":\n",
        "    error = -1*np.sum(np.multiply(one_hot(y, 10),np.log(y_hat)))/one_hot(y, 10).shape[1]         # hardcoded classes = 10\n",
        "\n",
        "  if W:\n",
        "    r = 0\n",
        "    for i in range(len(W)):\n",
        "      r += np.sum((np.array(W, dtype = object) **2)[i])\n",
        "    error = error + reg_lamda * r\n",
        "\n",
        "  return error\n",
        "\n",
        "\n",
        "def accuracy(y_hat, y_true):\n",
        "  return np.mean(np.argmax(y_hat, axis = 0) ==y_true )*100\n"
      ]
    },
    {
      "cell_type": "markdown",
      "metadata": {
        "id": "buMsoNw2IIsI"
      },
      "source": [
        "##### Back Propogation"
      ]
    },
    {
      "cell_type": "code",
      "execution_count": 5,
      "metadata": {
        "id": "JJfnib-7IIsJ"
      },
      "outputs": [],
      "source": [
        "def back_prop(x, y, y_hat, a, h , W, B, batch_size, loss_type, activation_type):\n",
        "  gh = [0]*len(h)\n",
        "  ga = [0]*len(a)\n",
        "  gw = [0]*len(W)\n",
        "  gb = [0]*len(B)\n",
        "\n",
        "  sigma = activation(activation_type) \n",
        "\n",
        "  if loss_type == \"cross_entropy\":\n",
        "    gh[-1] = -1*(y/y_hat)\n",
        "    ga[-1] = -1*(y-y_hat)\n",
        "  if loss_type == \"squared_error\":   ##### edit this\n",
        "    gh[-1] = y_hat - y\n",
        "    ga[-1] = (y_hat - y)*softmax(a[-1])*(1-softmax(a[-1]))\n",
        "\n",
        "  for i in range(len(W)-1, -1, -1):\n",
        "    gw[i] = np.dot(ga[i], h[i].T)\n",
        "    gb[i] = np.dot(ga[i], np.ones((batch_size,1)))\n",
        "    if i > 0:\n",
        "      gh[i-1] = np.dot(W[i].T, ga[i])\n",
        "      ga[i-1]  = np.multiply(gh[i-1],sigma(a[i-1], derivative = True))\n",
        "\n",
        "  return gw, gb, gh, ga"
      ]
    },
    {
      "cell_type": "markdown",
      "metadata": {
        "id": "5LcMwwu4JS-Y"
      },
      "source": [
        "**Optimizing functions**"
      ]
    },
    {
      "cell_type": "code",
      "execution_count": 6,
      "metadata": {
        "id": "recqY3V8L1Uk"
      },
      "outputs": [],
      "source": [
        "class SGD:\n",
        "  ''' Stochastic Gradient Descent '''\n",
        "  def __init__(self, lr = 0.001, reg = 0):\n",
        "    self.lr = lr\n",
        "    self.reg = reg\n",
        "  \n",
        "  def update(self, w,b, gW, gB):\n",
        "    W = np.array(w, dtype = object)\n",
        "    B = np.array(b, dtype = object)\n",
        "\n",
        "    W = (1-self.lr*self.reg)*W - self.lr * np.array(gW, dtype = object)\n",
        "    B = (1-self.lr*self.reg)*B - self.lr * np.array(gB, dtype = object)\n",
        "\n",
        "    return W.tolist(),B.tolist()\n",
        "\n",
        "\n",
        "class Momentum:\n",
        "\n",
        "  def __init__(self, lr = 0.001, gamma = 0.9, reg = 0):\n",
        "    self.lr = lr\n",
        "    self.gamma = gamma\n",
        "    self.Wmoments = None\n",
        "    self.Bmoments = None\n",
        "    self.reg = reg\n",
        "\n",
        "\n",
        "  def update(self, w,b, gW, gB):\n",
        "    params = {'w':w, 'b':b}\n",
        "\n",
        "    if self.Wmoments == None:\n",
        "      self.Wmoments = [0] * len(params['w'])\n",
        "      for i in range(len(params['w'])):\n",
        "        self.Wmoments[i] = np.zeros_like(params['w'][i])\n",
        "\n",
        "    if self.Bmoments == None:\n",
        "      self.Bmoments = [0] * len(params['b'])\n",
        "      for i in range(len(params['b'])):\n",
        "        self.Bmoments[i] = np.zeros_like(params['b'][i])\n",
        "    \n",
        "    self.Wmoments = self.gamma * np.array(self.Wmoments, dtype = object) + self.lr * np.array(gW, dtype = object)\n",
        "    W = (1-self.lr*self.reg)*np.array(params['w'], dtype = object) - self.Wmoments\n",
        "    self.Wmoments = self.Wmoments.tolist()\n",
        "\n",
        "    self.Bmoments = self.gamma * np.array(self.Bmoments, dtype = object) + self.lr * np.array(gB, dtype = object)\n",
        "    B = (1-self.lr*self.reg)*np.array(params['b'], dtype = object) - self.Bmoments\n",
        "    self.Bmoments = self.Bmoments.tolist()\n",
        "    \n",
        "    return W.tolist(), B.tolist()\n",
        "\n",
        "\n",
        "class RMSprop:\n",
        "  def __init__(self, lr=0.01, beta = 0.99):\n",
        "    \n",
        "    self.lr = lr\n",
        "    self.vW = None\n",
        "    self.vB = None\n",
        "    self.beta = beta\n",
        "\n",
        "  def update(self, w,b, gW, gB):\n",
        "    params = {'w':w, 'b':b}\n",
        "    if self.vW == None:\n",
        "      self.vW = [0] * len(params['w'])\n",
        "      for i in range(len(params['w'])):\n",
        "        self.vW[i] = np.zeros_like(params['w'][i])\n",
        "\n",
        "    if self.vB == None:\n",
        "      self.vB = [0] * len(params['b'])\n",
        "      for i in range(len(params['b'])):\n",
        "        self.vB[i] = np.zeros_like(params['b'][i])\n",
        "\n",
        "    self.vW = self.beta*np.array(self.vW, dtype = object) + (1-self.beta)*(np.array(gW, dtype = object) **2) \n",
        "    W = (1-self.lr*self.reg)*np.array(params['w'], dtype = object) - (self.lr/((self.vW + 1e-7)**0.5)) * np.array(gW, dtype = object)\n",
        "    self.vW = self.vW.tolist()\n",
        "\n",
        "    self.vB = self.beta*np.array(self.vB, dtype = object) + (1-self.beta)*(np.array(gB, dtype = object) **2 )\n",
        "    B = (1-self.lr*self.reg)*np.array(params['b'], dtype = object) - (self.lr/((self.vB + 1e-7)**0.5)) * np.array(gB, dtype = object)\n",
        "    self.vB = self.vB.tolist()\n",
        "\n",
        "    return W.tolist(), B.tolist()\n",
        "\n",
        "class Nesterov:   \n",
        "  def __init__(self, lr=0.01, gamma=0.9):\n",
        "    self.lr = lr\n",
        "    self.reg = None\n",
        "    self.gamma = gamma                                                             \n",
        "    self.Wmoments = None\n",
        "    self.Bmoments = None\n",
        "    self.activation_type = None\n",
        "    self.loss_type = None\n",
        "        \n",
        "  def update(self, w,b, gW, gB):\n",
        "    params = {'w':w, 'b':b}\n",
        "    if self.Wmoments == None:\n",
        "      self.Wmoments = [0] * len(params['w'])\n",
        "      for i in range(len(params['w'])):\n",
        "        self.Wmoments[i] = np.zeros_like(params['w'][i])\n",
        "\n",
        "    if self.Bmoments == None:\n",
        "      self.Bmoments = [0] * len(params['b'])\n",
        "      for i in range(len(params['b'])):\n",
        "        self.Bmoments[i] = np.zeros_like(params['b'][i])\n",
        "\n",
        "\n",
        "    W_look_ahead = np.array(params['w'], dtype = object) - self.gamma*np.array(self.Wmoments, dtype = object)\n",
        "    B_look_ahead = np.array(params['b'], dtype = object) - self.gamma*np.array(self.Bmoments, dtype = object)\n",
        "    ##\n",
        "    out, temp_h, temp_a = feed_forward(x,W_look_ahead.tolist(),B_look_ahead.tolist(), self.activation_type)\n",
        "    gW_look_ahead, gB_look_ahead, _, _ = back_prop(x, y,out,temp_a,temp_h, W_look_ahead.tolist(),B_look_ahead.tolist(), x.shape[1], self.loss_type, self.activation_type)\n",
        "\n",
        "    ###\n",
        "    self.Wmoments = self.gamma*np.array(self.Wmoments, dtype = object) + self.lr * np.array(gW_look_ahead, dtype = object)\n",
        "    self.Bmoments = self.gamma*np.array(self.Bmoments, dtype = object) + self.lr * np.array(gB_look_ahead, dtype = object)\n",
        "\n",
        "    W = (1-self.lr*self.reg)*np.array(params['w'], dtype = object) - self.Wmoments\n",
        "    self.Wmoments = self.Wmoments.tolist()\n",
        "\n",
        "    B = (1-self.lr*self.reg)*np.array(params['b'], dtype = object) - self.Bmoments\n",
        "    self.Bmoments = self.Bmoments.tolist()\n",
        "\n",
        "    return W.tolist(), B.tolist()\n",
        "\n",
        "class Adam:\n",
        "  def __init__(self, lr=0.001, beta1=0.9, beta2=0.999, reg = 0):\n",
        "    self.lr = lr\n",
        "    self.beta1 = beta1\n",
        "    self.beta2 = beta2\n",
        "    self.t = 0\n",
        "    self.mW = None\n",
        "    self.vW = None\n",
        "    self.mB = None\n",
        "    self.vB = None\n",
        "    self.reg = None\n",
        "        \n",
        "  def update(self, w,b, gW, gB):\n",
        "    params = {'w':w, 'b':b}\n",
        "\n",
        "    if self.mW is None:\n",
        "      self.mW, self.vW = [0] * len(params['w']), [0] * len(params['w'])\n",
        "      for i in range(len(params['w'])):\n",
        "        self.mW[i] = np.zeros_like(params['w'][i])\n",
        "        self.vW[i] = np.zeros_like(params['w'][i])\n",
        "\n",
        "    if self.mB is None:\n",
        "      self.mB, self.vB = [0] * len(params['b']), [0] * len(params['b'])\n",
        "      for i in range(len(params['b'])):\n",
        "        self.mB[i] = np.zeros_like(params['b'][i])\n",
        "        self.vB[i] = np.zeros_like(params['b'][i])\n",
        "    \n",
        "\n",
        "    self.t += 1\n",
        "    self.mW = (self.beta1 * np.array(self.mW, dtype = object)) + (1-self.beta1)*(np.array(gW, dtype = object))\n",
        "    self.vW = (self.beta2 * np.array(self.vW, dtype = object)) + (1-self.beta2)*((np.array(gW, dtype = object)**2))\n",
        "\n",
        "    self.mB = (self.beta1 * np.array(self.mB, dtype = object)) + (1-self.beta1)*(np.array(gB, dtype = object))\n",
        "    self.vB = (self.beta2 * np.array(self.vB, dtype = object)) + (1-self.beta2)*((np.array(gB, dtype = object)**2))\n",
        "\n",
        "    # Bias Correction\n",
        "    self.mW = (self.mW)*(1.0/(1-(self.beta1**self.t)))\n",
        "    self.vW = (self.vW)*(1.0/(1-(self.beta2**self.t)))\n",
        "    self.mB = (self.mB)*(1.0/(1-(self.beta1**self.t)))\n",
        "    self.vB = (self.vB)*(1.0/(1-(self.beta2**self.t)))\n",
        "\n",
        "    W = (1-self.lr*self.reg)*np.array(params['w'], dtype = object) - (self.lr/((self.vW + 1e-7)**0.5)) * self.mW\n",
        "    self.vW = self.vW.tolist()\n",
        "    self.mW = self.mW.tolist()\n",
        "\n",
        "    B = (1-self.lr*self.reg)*np.array(params['b'], dtype = object) - (self.lr/((self.vB + 1e-7)**0.5)) * self.mB\n",
        "    self.vB = self.vB.tolist()\n",
        "    self.mB = self.mB.tolist()\n",
        "\n",
        "    return W.tolist(), B.tolist()    "
      ]
    },
    {
      "cell_type": "markdown",
      "metadata": {
        "id": "5MLzYFPHIIsL"
      },
      "source": [
        "##### Training Function"
      ]
    },
    {
      "cell_type": "code",
      "execution_count": 7,
      "metadata": {
        "id": "es-CTkdsIIsM"
      },
      "outputs": [],
      "source": [
        "def train(X_train, y_train,x_val, y_val, num_inputs_nodes, hidden_layers, num_output_nodes, init_type, epochs, batch_size, loss_type,activation_type, optimizer_name, learning_rate, reg_lamda):\n",
        "  if optimizer_name=='sgd':\n",
        "    optimizer = SGD()\n",
        "  elif optimizer_name=='momentum':\n",
        "    optimizer = Momentum()\n",
        "  elif optimizer_name=='rmsprop':\n",
        "    optimizer = RMSprop()\n",
        "  elif optimizer_name=='nesterov':\n",
        "    optimizer = Nesterov()\n",
        "  elif optimizer_name=='adam':\n",
        "    optimizer = Adam()    \n",
        "  \n",
        "\n",
        "  try:   \n",
        "    optimizer.activation_type = activation_type\n",
        "    optimizer.loss_type = loss_type\n",
        "  except:\n",
        "    pass\n",
        "\n",
        "  W, B = param_inint(num_inputs_nodes,hidden_layers, num_output_nodes, init_type)\n",
        "  N = X_train.shape[0]\n",
        "  n_batches = int(np.floor(N/batch_size))\n",
        "  optimizer.lr = learning_rate\n",
        "  optimizer.reg = reg_lamda\n",
        "\n",
        "  for epoch in range(epochs):\n",
        "\n",
        "    train_loss = []\n",
        "    train_accuracy = []\n",
        "    val_loss = []\n",
        "    val_accuracy = []\n",
        "    l = 0\n",
        "    acc = 0\n",
        "    temp = 0\n",
        "    for batch in range(n_batches):\n",
        "      x = np.squeeze(X_train[batch*batch_size:batch_size+batch*batch_size]).T\n",
        "      y = one_hot(y_train[batch*batch_size:batch_size+batch*batch_size], 10)\n",
        "      y_hat, h, a = feed_forward(x, W,B, activation_type)\n",
        "      gw, gb, gh, ga = back_prop(x, y,y_hat,a,h, W,B, batch_size, loss_type, activation_type)\n",
        "      W,B = optimizer.update(W,B, gw,gb)\n",
        "      l += loss_compute(y_train[batch*batch_size:batch_size+batch*batch_size],y_hat, loss_type, W,reg_lamda)\n",
        "      acc += accuracy(y_hat, y_train[batch*batch_size:batch_size+batch*batch_size])\n",
        "\n",
        "    if N%batch_size != 0:\n",
        "        x = np.squeeze(X_train[-1*(N%batch_size):]).T\n",
        "        y = one_hot(y_train[-1*(N%batch_size):], 10)\n",
        "        y_hat, h, a = feed_forward(x, W,B, activation_type)\n",
        "        gw, gb, gh, ga = back_prop(x, y,y_hat,a,h, W,B, N%batch_size, loss_type, activation_type)\n",
        "        W,B = optimizer.update(W,B, gw,gb)\n",
        "        l += loss_compute(y_train[-1*(N%batch_size):],y_hat, loss_type, W,reg_lamda)\n",
        "        acc += accuracy(y_hat, y_train[-1*(N%batch_size):])\n",
        "        temp = 1\n",
        "\n",
        "    l = l/(n_batches + (N%batch_size))\n",
        "    acc = acc/(n_batches + temp)\n",
        "\n",
        "    train_loss.append(l)\n",
        "    train_accuracy.append(acc)\n",
        "    #print(f\"Epoch:{epoch+1}\")\n",
        "    #print(f\"Train Loss: {l}\")\n",
        "    #print(f\"Train Accuracy: {acc}\")\n",
        "\n",
        "    #### Validation\n",
        "    if x_val.any():\n",
        "      y_val_hat, _,_ = feed_forward(np.squeeze(x_val).T, W,B, activation_type)\n",
        "      val_acc = accuracy(y_val_hat,y_val)\n",
        "      val_l = loss_compute(y_val, y_val_hat, loss_type,W = None, reg_lamda = reg_lamda)\n",
        "      val_accuracy.append(val_acc)\n",
        "      val_loss.append(val_l)\n",
        "      #print(f\"Val Loss: {val_l}\")\n",
        "      #print(f\"Val Accuracy: {val_acc}\")\n",
        "\n",
        "    wandb.log({\"epoch\":epoch,\"Train_loss\":l,\"Train_acc\":acc,\"val_loss\":val_l,\"val_Accuracy\":val_acc})\n",
        "  return W,B, train_loss, train_accuracy, val_loss, val_accuracy\n",
        "\n",
        "\n"
      ]
    },
    {
      "cell_type": "code",
      "execution_count": 8,
      "metadata": {
        "id": "xzQXP-5v-v9d",
        "colab": {
          "base_uri": "https://localhost:8080/"
        },
        "outputId": "d3b42a1c-61de-4a1d-cab2-704b31ac4c21"
      },
      "outputs": [
        {
          "output_type": "stream",
          "name": "stdout",
          "text": [
            "Collecting wandb\n",
            "  Downloading wandb-0.12.11-py2.py3-none-any.whl (1.7 MB)\n",
            "\u001b[?25l\r\u001b[K     |▏                               | 10 kB 29.1 MB/s eta 0:00:01\r\u001b[K     |▍                               | 20 kB 13.7 MB/s eta 0:00:01\r\u001b[K     |▋                               | 30 kB 10.4 MB/s eta 0:00:01\r\u001b[K     |▊                               | 40 kB 9.1 MB/s eta 0:00:01\r\u001b[K     |█                               | 51 kB 4.7 MB/s eta 0:00:01\r\u001b[K     |█▏                              | 61 kB 5.5 MB/s eta 0:00:01\r\u001b[K     |█▎                              | 71 kB 5.8 MB/s eta 0:00:01\r\u001b[K     |█▌                              | 81 kB 4.3 MB/s eta 0:00:01\r\u001b[K     |█▊                              | 92 kB 4.8 MB/s eta 0:00:01\r\u001b[K     |█▉                              | 102 kB 5.3 MB/s eta 0:00:01\r\u001b[K     |██                              | 112 kB 5.3 MB/s eta 0:00:01\r\u001b[K     |██▎                             | 122 kB 5.3 MB/s eta 0:00:01\r\u001b[K     |██▍                             | 133 kB 5.3 MB/s eta 0:00:01\r\u001b[K     |██▋                             | 143 kB 5.3 MB/s eta 0:00:01\r\u001b[K     |██▉                             | 153 kB 5.3 MB/s eta 0:00:01\r\u001b[K     |███                             | 163 kB 5.3 MB/s eta 0:00:01\r\u001b[K     |███▏                            | 174 kB 5.3 MB/s eta 0:00:01\r\u001b[K     |███▍                            | 184 kB 5.3 MB/s eta 0:00:01\r\u001b[K     |███▋                            | 194 kB 5.3 MB/s eta 0:00:01\r\u001b[K     |███▊                            | 204 kB 5.3 MB/s eta 0:00:01\r\u001b[K     |████                            | 215 kB 5.3 MB/s eta 0:00:01\r\u001b[K     |████▏                           | 225 kB 5.3 MB/s eta 0:00:01\r\u001b[K     |████▎                           | 235 kB 5.3 MB/s eta 0:00:01\r\u001b[K     |████▌                           | 245 kB 5.3 MB/s eta 0:00:01\r\u001b[K     |████▊                           | 256 kB 5.3 MB/s eta 0:00:01\r\u001b[K     |████▉                           | 266 kB 5.3 MB/s eta 0:00:01\r\u001b[K     |█████                           | 276 kB 5.3 MB/s eta 0:00:01\r\u001b[K     |█████▎                          | 286 kB 5.3 MB/s eta 0:00:01\r\u001b[K     |█████▌                          | 296 kB 5.3 MB/s eta 0:00:01\r\u001b[K     |█████▋                          | 307 kB 5.3 MB/s eta 0:00:01\r\u001b[K     |█████▉                          | 317 kB 5.3 MB/s eta 0:00:01\r\u001b[K     |██████                          | 327 kB 5.3 MB/s eta 0:00:01\r\u001b[K     |██████▏                         | 337 kB 5.3 MB/s eta 0:00:01\r\u001b[K     |██████▍                         | 348 kB 5.3 MB/s eta 0:00:01\r\u001b[K     |██████▋                         | 358 kB 5.3 MB/s eta 0:00:01\r\u001b[K     |██████▊                         | 368 kB 5.3 MB/s eta 0:00:01\r\u001b[K     |███████                         | 378 kB 5.3 MB/s eta 0:00:01\r\u001b[K     |███████▏                        | 389 kB 5.3 MB/s eta 0:00:01\r\u001b[K     |███████▎                        | 399 kB 5.3 MB/s eta 0:00:01\r\u001b[K     |███████▌                        | 409 kB 5.3 MB/s eta 0:00:01\r\u001b[K     |███████▊                        | 419 kB 5.3 MB/s eta 0:00:01\r\u001b[K     |███████▉                        | 430 kB 5.3 MB/s eta 0:00:01\r\u001b[K     |████████                        | 440 kB 5.3 MB/s eta 0:00:01\r\u001b[K     |████████▎                       | 450 kB 5.3 MB/s eta 0:00:01\r\u001b[K     |████████▌                       | 460 kB 5.3 MB/s eta 0:00:01\r\u001b[K     |████████▋                       | 471 kB 5.3 MB/s eta 0:00:01\r\u001b[K     |████████▉                       | 481 kB 5.3 MB/s eta 0:00:01\r\u001b[K     |█████████                       | 491 kB 5.3 MB/s eta 0:00:01\r\u001b[K     |█████████▏                      | 501 kB 5.3 MB/s eta 0:00:01\r\u001b[K     |█████████▍                      | 512 kB 5.3 MB/s eta 0:00:01\r\u001b[K     |█████████▋                      | 522 kB 5.3 MB/s eta 0:00:01\r\u001b[K     |█████████▊                      | 532 kB 5.3 MB/s eta 0:00:01\r\u001b[K     |██████████                      | 542 kB 5.3 MB/s eta 0:00:01\r\u001b[K     |██████████▏                     | 552 kB 5.3 MB/s eta 0:00:01\r\u001b[K     |██████████▎                     | 563 kB 5.3 MB/s eta 0:00:01\r\u001b[K     |██████████▌                     | 573 kB 5.3 MB/s eta 0:00:01\r\u001b[K     |██████████▊                     | 583 kB 5.3 MB/s eta 0:00:01\r\u001b[K     |███████████                     | 593 kB 5.3 MB/s eta 0:00:01\r\u001b[K     |███████████                     | 604 kB 5.3 MB/s eta 0:00:01\r\u001b[K     |███████████▎                    | 614 kB 5.3 MB/s eta 0:00:01\r\u001b[K     |███████████▌                    | 624 kB 5.3 MB/s eta 0:00:01\r\u001b[K     |███████████▋                    | 634 kB 5.3 MB/s eta 0:00:01\r\u001b[K     |███████████▉                    | 645 kB 5.3 MB/s eta 0:00:01\r\u001b[K     |████████████                    | 655 kB 5.3 MB/s eta 0:00:01\r\u001b[K     |████████████▏                   | 665 kB 5.3 MB/s eta 0:00:01\r\u001b[K     |████████████▍                   | 675 kB 5.3 MB/s eta 0:00:01\r\u001b[K     |████████████▋                   | 686 kB 5.3 MB/s eta 0:00:01\r\u001b[K     |████████████▊                   | 696 kB 5.3 MB/s eta 0:00:01\r\u001b[K     |█████████████                   | 706 kB 5.3 MB/s eta 0:00:01\r\u001b[K     |█████████████▏                  | 716 kB 5.3 MB/s eta 0:00:01\r\u001b[K     |█████████████▍                  | 727 kB 5.3 MB/s eta 0:00:01\r\u001b[K     |█████████████▌                  | 737 kB 5.3 MB/s eta 0:00:01\r\u001b[K     |█████████████▊                  | 747 kB 5.3 MB/s eta 0:00:01\r\u001b[K     |██████████████                  | 757 kB 5.3 MB/s eta 0:00:01\r\u001b[K     |██████████████                  | 768 kB 5.3 MB/s eta 0:00:01\r\u001b[K     |██████████████▎                 | 778 kB 5.3 MB/s eta 0:00:01\r\u001b[K     |██████████████▌                 | 788 kB 5.3 MB/s eta 0:00:01\r\u001b[K     |██████████████▋                 | 798 kB 5.3 MB/s eta 0:00:01\r\u001b[K     |██████████████▉                 | 808 kB 5.3 MB/s eta 0:00:01\r\u001b[K     |███████████████                 | 819 kB 5.3 MB/s eta 0:00:01\r\u001b[K     |███████████████▏                | 829 kB 5.3 MB/s eta 0:00:01\r\u001b[K     |███████████████▍                | 839 kB 5.3 MB/s eta 0:00:01\r\u001b[K     |███████████████▋                | 849 kB 5.3 MB/s eta 0:00:01\r\u001b[K     |███████████████▊                | 860 kB 5.3 MB/s eta 0:00:01\r\u001b[K     |████████████████                | 870 kB 5.3 MB/s eta 0:00:01\r\u001b[K     |████████████████▏               | 880 kB 5.3 MB/s eta 0:00:01\r\u001b[K     |████████████████▍               | 890 kB 5.3 MB/s eta 0:00:01\r\u001b[K     |████████████████▌               | 901 kB 5.3 MB/s eta 0:00:01\r\u001b[K     |████████████████▊               | 911 kB 5.3 MB/s eta 0:00:01\r\u001b[K     |█████████████████               | 921 kB 5.3 MB/s eta 0:00:01\r\u001b[K     |█████████████████               | 931 kB 5.3 MB/s eta 0:00:01\r\u001b[K     |█████████████████▎              | 942 kB 5.3 MB/s eta 0:00:01\r\u001b[K     |█████████████████▌              | 952 kB 5.3 MB/s eta 0:00:01\r\u001b[K     |█████████████████▋              | 962 kB 5.3 MB/s eta 0:00:01\r\u001b[K     |█████████████████▉              | 972 kB 5.3 MB/s eta 0:00:01\r\u001b[K     |██████████████████              | 983 kB 5.3 MB/s eta 0:00:01\r\u001b[K     |██████████████████▏             | 993 kB 5.3 MB/s eta 0:00:01\r\u001b[K     |██████████████████▍             | 1.0 MB 5.3 MB/s eta 0:00:01\r\u001b[K     |██████████████████▋             | 1.0 MB 5.3 MB/s eta 0:00:01\r\u001b[K     |██████████████████▉             | 1.0 MB 5.3 MB/s eta 0:00:01\r\u001b[K     |███████████████████             | 1.0 MB 5.3 MB/s eta 0:00:01\r\u001b[K     |███████████████████▏            | 1.0 MB 5.3 MB/s eta 0:00:01\r\u001b[K     |███████████████████▍            | 1.1 MB 5.3 MB/s eta 0:00:01\r\u001b[K     |███████████████████▌            | 1.1 MB 5.3 MB/s eta 0:00:01\r\u001b[K     |███████████████████▊            | 1.1 MB 5.3 MB/s eta 0:00:01\r\u001b[K     |████████████████████            | 1.1 MB 5.3 MB/s eta 0:00:01\r\u001b[K     |████████████████████            | 1.1 MB 5.3 MB/s eta 0:00:01\r\u001b[K     |████████████████████▎           | 1.1 MB 5.3 MB/s eta 0:00:01\r\u001b[K     |████████████████████▌           | 1.1 MB 5.3 MB/s eta 0:00:01\r\u001b[K     |████████████████████▋           | 1.1 MB 5.3 MB/s eta 0:00:01\r\u001b[K     |████████████████████▉           | 1.1 MB 5.3 MB/s eta 0:00:01\r\u001b[K     |█████████████████████           | 1.1 MB 5.3 MB/s eta 0:00:01\r\u001b[K     |█████████████████████▏          | 1.2 MB 5.3 MB/s eta 0:00:01\r\u001b[K     |█████████████████████▍          | 1.2 MB 5.3 MB/s eta 0:00:01\r\u001b[K     |█████████████████████▋          | 1.2 MB 5.3 MB/s eta 0:00:01\r\u001b[K     |█████████████████████▉          | 1.2 MB 5.3 MB/s eta 0:00:01\r\u001b[K     |██████████████████████          | 1.2 MB 5.3 MB/s eta 0:00:01\r\u001b[K     |██████████████████████▏         | 1.2 MB 5.3 MB/s eta 0:00:01\r\u001b[K     |██████████████████████▍         | 1.2 MB 5.3 MB/s eta 0:00:01\r\u001b[K     |██████████████████████▌         | 1.2 MB 5.3 MB/s eta 0:00:01\r\u001b[K     |██████████████████████▊         | 1.2 MB 5.3 MB/s eta 0:00:01\r\u001b[K     |███████████████████████         | 1.2 MB 5.3 MB/s eta 0:00:01\r\u001b[K     |███████████████████████         | 1.3 MB 5.3 MB/s eta 0:00:01\r\u001b[K     |███████████████████████▎        | 1.3 MB 5.3 MB/s eta 0:00:01\r\u001b[K     |███████████████████████▌        | 1.3 MB 5.3 MB/s eta 0:00:01\r\u001b[K     |███████████████████████▋        | 1.3 MB 5.3 MB/s eta 0:00:01\r\u001b[K     |███████████████████████▉        | 1.3 MB 5.3 MB/s eta 0:00:01\r\u001b[K     |████████████████████████        | 1.3 MB 5.3 MB/s eta 0:00:01\r\u001b[K     |████████████████████████▎       | 1.3 MB 5.3 MB/s eta 0:00:01\r\u001b[K     |████████████████████████▍       | 1.3 MB 5.3 MB/s eta 0:00:01\r\u001b[K     |████████████████████████▋       | 1.3 MB 5.3 MB/s eta 0:00:01\r\u001b[K     |████████████████████████▉       | 1.4 MB 5.3 MB/s eta 0:00:01\r\u001b[K     |█████████████████████████       | 1.4 MB 5.3 MB/s eta 0:00:01\r\u001b[K     |█████████████████████████▏      | 1.4 MB 5.3 MB/s eta 0:00:01\r\u001b[K     |█████████████████████████▍      | 1.4 MB 5.3 MB/s eta 0:00:01\r\u001b[K     |█████████████████████████▌      | 1.4 MB 5.3 MB/s eta 0:00:01\r\u001b[K     |█████████████████████████▊      | 1.4 MB 5.3 MB/s eta 0:00:01\r\u001b[K     |██████████████████████████      | 1.4 MB 5.3 MB/s eta 0:00:01\r\u001b[K     |██████████████████████████      | 1.4 MB 5.3 MB/s eta 0:00:01\r\u001b[K     |██████████████████████████▎     | 1.4 MB 5.3 MB/s eta 0:00:01\r\u001b[K     |██████████████████████████▌     | 1.4 MB 5.3 MB/s eta 0:00:01\r\u001b[K     |██████████████████████████▊     | 1.5 MB 5.3 MB/s eta 0:00:01\r\u001b[K     |██████████████████████████▉     | 1.5 MB 5.3 MB/s eta 0:00:01\r\u001b[K     |███████████████████████████     | 1.5 MB 5.3 MB/s eta 0:00:01\r\u001b[K     |███████████████████████████▎    | 1.5 MB 5.3 MB/s eta 0:00:01\r\u001b[K     |███████████████████████████▍    | 1.5 MB 5.3 MB/s eta 0:00:01\r\u001b[K     |███████████████████████████▋    | 1.5 MB 5.3 MB/s eta 0:00:01\r\u001b[K     |███████████████████████████▉    | 1.5 MB 5.3 MB/s eta 0:00:01\r\u001b[K     |████████████████████████████    | 1.5 MB 5.3 MB/s eta 0:00:01\r\u001b[K     |████████████████████████████▏   | 1.5 MB 5.3 MB/s eta 0:00:01\r\u001b[K     |████████████████████████████▍   | 1.5 MB 5.3 MB/s eta 0:00:01\r\u001b[K     |████████████████████████████▌   | 1.6 MB 5.3 MB/s eta 0:00:01\r\u001b[K     |████████████████████████████▊   | 1.6 MB 5.3 MB/s eta 0:00:01\r\u001b[K     |█████████████████████████████   | 1.6 MB 5.3 MB/s eta 0:00:01\r\u001b[K     |█████████████████████████████   | 1.6 MB 5.3 MB/s eta 0:00:01\r\u001b[K     |█████████████████████████████▎  | 1.6 MB 5.3 MB/s eta 0:00:01\r\u001b[K     |█████████████████████████████▌  | 1.6 MB 5.3 MB/s eta 0:00:01\r\u001b[K     |█████████████████████████████▊  | 1.6 MB 5.3 MB/s eta 0:00:01\r\u001b[K     |█████████████████████████████▉  | 1.6 MB 5.3 MB/s eta 0:00:01\r\u001b[K     |██████████████████████████████  | 1.6 MB 5.3 MB/s eta 0:00:01\r\u001b[K     |██████████████████████████████▎ | 1.6 MB 5.3 MB/s eta 0:00:01\r\u001b[K     |██████████████████████████████▍ | 1.7 MB 5.3 MB/s eta 0:00:01\r\u001b[K     |██████████████████████████████▋ | 1.7 MB 5.3 MB/s eta 0:00:01\r\u001b[K     |██████████████████████████████▉ | 1.7 MB 5.3 MB/s eta 0:00:01\r\u001b[K     |███████████████████████████████ | 1.7 MB 5.3 MB/s eta 0:00:01\r\u001b[K     |███████████████████████████████▏| 1.7 MB 5.3 MB/s eta 0:00:01\r\u001b[K     |███████████████████████████████▍| 1.7 MB 5.3 MB/s eta 0:00:01\r\u001b[K     |███████████████████████████████▌| 1.7 MB 5.3 MB/s eta 0:00:01\r\u001b[K     |███████████████████████████████▊| 1.7 MB 5.3 MB/s eta 0:00:01\r\u001b[K     |████████████████████████████████| 1.7 MB 5.3 MB/s eta 0:00:01\r\u001b[K     |████████████████████████████████| 1.7 MB 5.3 MB/s \n",
            "\u001b[?25hRequirement already satisfied: python-dateutil>=2.6.1 in /usr/local/lib/python3.7/dist-packages (from wandb) (2.8.2)\n",
            "Requirement already satisfied: PyYAML in /usr/local/lib/python3.7/dist-packages (from wandb) (3.13)\n",
            "Collecting yaspin>=1.0.0\n",
            "  Downloading yaspin-2.1.0-py3-none-any.whl (18 kB)\n",
            "Requirement already satisfied: Click!=8.0.0,>=7.0 in /usr/local/lib/python3.7/dist-packages (from wandb) (7.1.2)\n",
            "Collecting GitPython>=1.0.0\n",
            "  Downloading GitPython-3.1.27-py3-none-any.whl (181 kB)\n",
            "\u001b[K     |████████████████████████████████| 181 kB 49.0 MB/s \n",
            "\u001b[?25hCollecting pathtools\n",
            "  Downloading pathtools-0.1.2.tar.gz (11 kB)\n",
            "Requirement already satisfied: protobuf>=3.12.0 in /usr/local/lib/python3.7/dist-packages (from wandb) (3.17.3)\n",
            "Collecting docker-pycreds>=0.4.0\n",
            "  Downloading docker_pycreds-0.4.0-py2.py3-none-any.whl (9.0 kB)\n",
            "Requirement already satisfied: psutil>=5.0.0 in /usr/local/lib/python3.7/dist-packages (from wandb) (5.4.8)\n",
            "Collecting shortuuid>=0.5.0\n",
            "  Downloading shortuuid-1.0.8-py3-none-any.whl (9.5 kB)\n",
            "Requirement already satisfied: promise<3,>=2.0 in /usr/local/lib/python3.7/dist-packages (from wandb) (2.3)\n",
            "Requirement already satisfied: six>=1.13.0 in /usr/local/lib/python3.7/dist-packages (from wandb) (1.15.0)\n",
            "Requirement already satisfied: requests<3,>=2.0.0 in /usr/local/lib/python3.7/dist-packages (from wandb) (2.23.0)\n",
            "Collecting sentry-sdk>=1.0.0\n",
            "  Downloading sentry_sdk-1.5.6-py2.py3-none-any.whl (144 kB)\n",
            "\u001b[K     |████████████████████████████████| 144 kB 46.6 MB/s \n",
            "\u001b[?25hCollecting setproctitle\n",
            "  Downloading setproctitle-1.2.2-cp37-cp37m-manylinux1_x86_64.whl (36 kB)\n",
            "Requirement already satisfied: typing-extensions>=3.7.4.3 in /usr/local/lib/python3.7/dist-packages (from GitPython>=1.0.0->wandb) (3.10.0.2)\n",
            "Collecting gitdb<5,>=4.0.1\n",
            "  Downloading gitdb-4.0.9-py3-none-any.whl (63 kB)\n",
            "\u001b[K     |████████████████████████████████| 63 kB 1.5 MB/s \n",
            "\u001b[?25hCollecting smmap<6,>=3.0.1\n",
            "  Downloading smmap-5.0.0-py3-none-any.whl (24 kB)\n",
            "Requirement already satisfied: urllib3!=1.25.0,!=1.25.1,<1.26,>=1.21.1 in /usr/local/lib/python3.7/dist-packages (from requests<3,>=2.0.0->wandb) (1.24.3)\n",
            "Requirement already satisfied: chardet<4,>=3.0.2 in /usr/local/lib/python3.7/dist-packages (from requests<3,>=2.0.0->wandb) (3.0.4)\n",
            "Requirement already satisfied: idna<3,>=2.5 in /usr/local/lib/python3.7/dist-packages (from requests<3,>=2.0.0->wandb) (2.10)\n",
            "Requirement already satisfied: certifi>=2017.4.17 in /usr/local/lib/python3.7/dist-packages (from requests<3,>=2.0.0->wandb) (2021.10.8)\n",
            "Requirement already satisfied: termcolor<2.0.0,>=1.1.0 in /usr/local/lib/python3.7/dist-packages (from yaspin>=1.0.0->wandb) (1.1.0)\n",
            "Building wheels for collected packages: pathtools\n",
            "  Building wheel for pathtools (setup.py) ... \u001b[?25l\u001b[?25hdone\n",
            "  Created wheel for pathtools: filename=pathtools-0.1.2-py3-none-any.whl size=8806 sha256=685f9f8b6411a4e2597ea92e6d4bef6175245f914b351a45ccf88b8416a97201\n",
            "  Stored in directory: /root/.cache/pip/wheels/3e/31/09/fa59cef12cdcfecc627b3d24273699f390e71828921b2cbba2\n",
            "Successfully built pathtools\n",
            "Installing collected packages: smmap, gitdb, yaspin, shortuuid, setproctitle, sentry-sdk, pathtools, GitPython, docker-pycreds, wandb\n",
            "Successfully installed GitPython-3.1.27 docker-pycreds-0.4.0 gitdb-4.0.9 pathtools-0.1.2 sentry-sdk-1.5.6 setproctitle-1.2.2 shortuuid-1.0.8 smmap-5.0.0 wandb-0.12.11 yaspin-2.1.0\n",
            "\u001b[34m\u001b[1mwandb\u001b[0m: You can find your API key in your browser here: https://wandb.ai/authorize\n",
            "\u001b[34m\u001b[1mwandb\u001b[0m: Paste an API key from your profile and hit enter, or press ctrl+c to quit: \n",
            "\u001b[34m\u001b[1mwandb\u001b[0m: Appending key for api.wandb.ai to your netrc file: /root/.netrc\n"
          ]
        }
      ],
      "source": [
        "!pip install wandb\n",
        "!wandb login\n",
        "import wandb"
      ]
    },
    {
      "cell_type": "code",
      "execution_count": 9,
      "metadata": {
        "id": "k_WphjyZ9Z2Q",
        "colab": {
          "base_uri": "https://localhost:8080/",
          "height": 111
        },
        "outputId": "c6ca0887-3528-40e8-d04b-df7c639789c3"
      },
      "outputs": [
        {
          "output_type": "stream",
          "name": "stderr",
          "text": [
            "\u001b[34m\u001b[1mwandb\u001b[0m: Currently logged in as: \u001b[33mtejoram\u001b[0m (use `wandb login --relogin` to force relogin)\n"
          ]
        },
        {
          "output_type": "display_data",
          "data": {
            "text/html": [
              "Tracking run with wandb version 0.12.11"
            ],
            "text/plain": [
              "<IPython.core.display.HTML object>"
            ]
          },
          "metadata": {}
        },
        {
          "output_type": "display_data",
          "data": {
            "text/html": [
              "Run data is saved locally in <code>/content/wandb/run-20220302_181643-kf6gm7f8</code>"
            ],
            "text/plain": [
              "<IPython.core.display.HTML object>"
            ]
          },
          "metadata": {}
        },
        {
          "output_type": "display_data",
          "data": {
            "text/html": [
              "Syncing run <strong><a href=\"https://wandb.ai/tejoram/mnist-trial/runs/kf6gm7f8\" target=\"_blank\">deft-sea-1</a></strong> to <a href=\"https://wandb.ai/tejoram/mnist-trial\" target=\"_blank\">Weights & Biases</a> (<a href=\"https://wandb.me/run\" target=\"_blank\">docs</a>)<br/>"
            ],
            "text/plain": [
              "<IPython.core.display.HTML object>"
            ]
          },
          "metadata": {}
        },
        {
          "output_type": "execute_result",
          "data": {
            "text/plain": [
              "<wandb.sdk.wandb_run.Run at 0x7f2a3490e910>"
            ],
            "text/html": [
              "<button onClick=\"this.nextSibling.style.display='block';this.style.display='none';\">Display W&B run</button><iframe src=\"https://wandb.ai/tejoram/mnist-trial/runs/kf6gm7f8?jupyter=true\" style=\"border:none;width:100%;height:420px;display:none;\"></iframe>"
            ]
          },
          "metadata": {},
          "execution_count": 9
        }
      ],
      "source": [
        "wandb.init(project=\"mnist-trial\")"
      ]
    },
    {
      "cell_type": "code",
      "execution_count": 10,
      "metadata": {
        "id": "VpvacxdF-fAu"
      },
      "outputs": [],
      "source": [
        "epochs=10\n",
        "hidden_layers=[128,32,32,16]\n",
        "learning_rate=0.001\n",
        "weight_decay=0.0005\n",
        "optimizer_name='rmsprop'\n",
        "batch_size=64\n",
        "init_type='xavier'\n",
        "activation_type='ReLU'\n",
        "loss_type='cross_entropy'\n",
        "reg_lamda=0.0005 \n",
        "wandb.run.name = \"e_{}_hl_{}_lr_{}_wd_{}_o_{}_bs_{}_winit_{}_ac_{}_los_{}_r_{}\".format(epochs,\\\n",
        "                                                                                    hidden_layers,\\\n",
        "                                                                                    learning_rate,\\\n",
        "                                                                                    weight_decay,\\\n",
        "                                                                                    optimizer_name,\\\n",
        "                                                                                    batch_size,\\\n",
        "                                                                                    init_type,\\\n",
        "                                                                                    activation_type,\\\n",
        "                                                                                    loss_type,\\\n",
        "                                                                                    reg_lamda)\n",
        "  \n",
        "_,_,train_loss, train_accuracy, val_loss, val_accuracy = train(X_train, y_train, X_validation, y_validation, 784, hidden_layers, 10, init_type, epochs, batch_size, loss_type, activation_type, optimizer_name, learning_rate, reg_lamda)"
      ]
    },
    {
      "cell_type": "code",
      "source": [
        "wandb.init(project=\"mnist-trial\")"
      ],
      "metadata": {
        "colab": {
          "base_uri": "https://localhost:8080/",
          "height": 386,
          "referenced_widgets": [
            "62033d71b20b4cd9b363cd97abdaebcc",
            "5e703458ff3f48e3bc28e701108636fe",
            "4a8ae699d3c14d9e98efc7cbef280204",
            "c589c16ebfb9434abfa27a021b45cdbe",
            "97f83b250ddf409da626ed370b7f368f",
            "2b19482f01994878952a95ef0cbb6d92",
            "d81caa4ca0f346519b6a27b54a4e1825",
            "014c1d8e561c48978a1deda391e6ab9b"
          ]
        },
        "id": "j5vAA33v3sow",
        "outputId": "b3d44eb0-587c-459b-dc73-961cbad17f45"
      },
      "execution_count": 11,
      "outputs": [
        {
          "output_type": "display_data",
          "data": {
            "text/html": [
              "Finishing last run (ID:kf6gm7f8) before initializing another..."
            ],
            "text/plain": [
              "<IPython.core.display.HTML object>"
            ]
          },
          "metadata": {}
        },
        {
          "output_type": "stream",
          "name": "stdout",
          "text": [
            "\n"
          ]
        },
        {
          "output_type": "display_data",
          "data": {
            "text/html": [
              "Waiting for W&B process to finish... <strong style=\"color:green\">(success).</strong>"
            ],
            "text/plain": [
              "<IPython.core.display.HTML object>"
            ]
          },
          "metadata": {}
        },
        {
          "output_type": "display_data",
          "data": {
            "application/vnd.jupyter.widget-view+json": {
              "model_id": "62033d71b20b4cd9b363cd97abdaebcc",
              "version_minor": 0,
              "version_major": 2
            },
            "text/plain": [
              "VBox(children=(Label(value='0.001 MB of 0.001 MB uploaded (0.000 MB deduped)\\r'), FloatProgress(value=1.0, max…"
            ]
          },
          "metadata": {}
        },
        {
          "output_type": "display_data",
          "data": {
            "text/html": [
              "<style>\n",
              "    table.wandb td:nth-child(1) { padding: 0 10px; text-align: right }\n",
              "    .wandb-row { display: flex; flex-direction: row; flex-wrap: wrap; width: 100% }\n",
              "    .wandb-col { display: flex; flex-direction: column; flex-basis: 100%; flex: 1; padding: 10px; }\n",
              "    </style>\n",
              "<div class=\"wandb-row\"><div class=\"wandb-col\"><h3>Run history:</h3><br/><table class=\"wandb\"><tr><td>Train_acc</td><td>▁▆▆▇▇█████</td></tr><tr><td>Train_loss</td><td>▄▁▁▂▃▄▅▆▇█</td></tr><tr><td>epoch</td><td>▁▂▃▃▄▅▆▆▇█</td></tr><tr><td>val_Accuracy</td><td>▁▄▄▅▆▆▇███</td></tr><tr><td>val_loss</td><td>█▄▃▂▂▄▁▂▂▄</td></tr></table><br/></div><div class=\"wandb-col\"><h3>Run summary:</h3><br/><table class=\"wandb\"><tr><td>Train_acc</td><td>99.30761</td></tr><tr><td>Train_loss</td><td>0.68226</td></tr><tr><td>epoch</td><td>9</td></tr><tr><td>val_Accuracy</td><td>97.45</td></tr><tr><td>val_loss</td><td>0.12671</td></tr></table><br/></div></div>"
            ],
            "text/plain": [
              "<IPython.core.display.HTML object>"
            ]
          },
          "metadata": {}
        },
        {
          "output_type": "display_data",
          "data": {
            "text/html": [
              "Synced <strong style=\"color:#cdcd00\">deft-sea-1</strong>: <a href=\"https://wandb.ai/tejoram/mnist-trial/runs/kf6gm7f8\" target=\"_blank\">https://wandb.ai/tejoram/mnist-trial/runs/kf6gm7f8</a><br/>Synced 4 W&B file(s), 0 media file(s), 0 artifact file(s) and 0 other file(s)"
            ],
            "text/plain": [
              "<IPython.core.display.HTML object>"
            ]
          },
          "metadata": {}
        },
        {
          "output_type": "display_data",
          "data": {
            "text/html": [
              "Find logs at: <code>./wandb/run-20220302_181643-kf6gm7f8/logs</code>"
            ],
            "text/plain": [
              "<IPython.core.display.HTML object>"
            ]
          },
          "metadata": {}
        },
        {
          "output_type": "display_data",
          "data": {
            "text/html": [
              "Successfully finished last run (ID:kf6gm7f8). Initializing new run:<br/>"
            ],
            "text/plain": [
              "<IPython.core.display.HTML object>"
            ]
          },
          "metadata": {}
        },
        {
          "output_type": "display_data",
          "data": {
            "text/html": [
              "Tracking run with wandb version 0.12.11"
            ],
            "text/plain": [
              "<IPython.core.display.HTML object>"
            ]
          },
          "metadata": {}
        },
        {
          "output_type": "display_data",
          "data": {
            "text/html": [
              "Run data is saved locally in <code>/content/wandb/run-20220302_182249-1595y4t6</code>"
            ],
            "text/plain": [
              "<IPython.core.display.HTML object>"
            ]
          },
          "metadata": {}
        },
        {
          "output_type": "display_data",
          "data": {
            "text/html": [
              "Syncing run <strong><a href=\"https://wandb.ai/tejoram/mnist-trial/runs/1595y4t6\" target=\"_blank\">lucky-capybara-2</a></strong> to <a href=\"https://wandb.ai/tejoram/mnist-trial\" target=\"_blank\">Weights & Biases</a> (<a href=\"https://wandb.me/run\" target=\"_blank\">docs</a>)<br/>"
            ],
            "text/plain": [
              "<IPython.core.display.HTML object>"
            ]
          },
          "metadata": {}
        },
        {
          "output_type": "execute_result",
          "data": {
            "text/plain": [
              "<wandb.sdk.wandb_run.Run at 0x7f2a2e858c10>"
            ],
            "text/html": [
              "<button onClick=\"this.nextSibling.style.display='block';this.style.display='none';\">Display W&B run</button><iframe src=\"https://wandb.ai/tejoram/mnist-trial/runs/1595y4t6?jupyter=true\" style=\"border:none;width:100%;height:420px;display:none;\"></iframe>"
            ]
          },
          "metadata": {},
          "execution_count": 11
        }
      ]
    },
    {
      "cell_type": "code",
      "source": [
        "epochs=10\n",
        "hidden_layers=[128,64,32]\n",
        "learning_rate=0.001\n",
        "weight_decay=0.5\n",
        "optimizer_name='rmsprop'\n",
        "batch_size=64\n",
        "init_type='xavier'\n",
        "activation_type='ReLU'\n",
        "loss_type='cross_entropy'\n",
        "reg_lamda=0.5\n",
        "wandb.run.name = \"e_{}_hl_{}_lr_{}_wd_{}_o_{}_bs_{}_winit_{}_ac_{}_los_{}_r_{}\".format(epochs,\\\n",
        "                                                                                    hidden_layers,\\\n",
        "                                                                                    learning_rate,\\\n",
        "                                                                                    weight_decay,\\\n",
        "                                                                                    optimizer_name,\\\n",
        "                                                                                    batch_size,\\\n",
        "                                                                                    init_type,\\\n",
        "                                                                                    activation_type,\\\n",
        "                                                                                    loss_type,\\\n",
        "                                                                                    reg_lamda)\n",
        "  \n",
        "_,_,train_loss, train_accuracy, val_loss, val_accuracy = train(X_train, y_train, X_validation, y_validation, 784, hidden_layers, 10, init_type, epochs, batch_size, loss_type, activation_type, optimizer_name, learning_rate, reg_lamda)"
      ],
      "metadata": {
        "id": "uxA77vUz3zpL"
      },
      "execution_count": 12,
      "outputs": []
    },
    {
      "cell_type": "code",
      "source": [
        "wandb.init(project=\"mnist-trial\")"
      ],
      "metadata": {
        "colab": {
          "base_uri": "https://localhost:8080/",
          "height": 386,
          "referenced_widgets": [
            "afc93eb0eafe4c76b6d6276f70bdde02",
            "102276335f26429d95c71910192823bc",
            "fb0eb50464d245cba046a343f9251288",
            "06c3576cb9004314964a604158f99c84",
            "5f742d7ea381420fa3af59b9c898e797",
            "534a97c9e04143b0881cad91fa05fa07",
            "72b1cfaf9e8849fab4a71d5960938768",
            "aa99e00585c946538763a0bd8138933b"
          ]
        },
        "id": "wbbPSf-F4aWy",
        "outputId": "e5a5d35f-58a8-465b-d651-63b0d54953ec"
      },
      "execution_count": 13,
      "outputs": [
        {
          "output_type": "display_data",
          "data": {
            "text/html": [
              "Finishing last run (ID:1595y4t6) before initializing another..."
            ],
            "text/plain": [
              "<IPython.core.display.HTML object>"
            ]
          },
          "metadata": {}
        },
        {
          "output_type": "stream",
          "name": "stdout",
          "text": [
            "\n"
          ]
        },
        {
          "output_type": "display_data",
          "data": {
            "text/html": [
              "Waiting for W&B process to finish... <strong style=\"color:green\">(success).</strong>"
            ],
            "text/plain": [
              "<IPython.core.display.HTML object>"
            ]
          },
          "metadata": {}
        },
        {
          "output_type": "display_data",
          "data": {
            "application/vnd.jupyter.widget-view+json": {
              "model_id": "afc93eb0eafe4c76b6d6276f70bdde02",
              "version_minor": 0,
              "version_major": 2
            },
            "text/plain": [
              "VBox(children=(Label(value='0.001 MB of 0.001 MB uploaded (0.000 MB deduped)\\r'), FloatProgress(value=1.0, max…"
            ]
          },
          "metadata": {}
        },
        {
          "output_type": "display_data",
          "data": {
            "text/html": [
              "<style>\n",
              "    table.wandb td:nth-child(1) { padding: 0 10px; text-align: right }\n",
              "    .wandb-row { display: flex; flex-direction: row; flex-wrap: wrap; width: 100% }\n",
              "    .wandb-col { display: flex; flex-direction: column; flex-basis: 100%; flex: 1; padding: 10px; }\n",
              "    </style>\n",
              "<div class=\"wandb-row\"><div class=\"wandb-col\"><h3>Run history:</h3><br/><table class=\"wandb\"><tr><td>Train_acc</td><td>▁▆▇▇▇█████</td></tr><tr><td>Train_loss</td><td>█▃▁▁▁▁▁▁▁▁</td></tr><tr><td>epoch</td><td>▁▂▃▃▄▅▆▆▇█</td></tr><tr><td>val_Accuracy</td><td>▁▄▆▇▇▇████</td></tr><tr><td>val_loss</td><td>█▄▃▂▂▂▁▁▁▁</td></tr></table><br/></div><div class=\"wandb-col\"><h3>Run summary:</h3><br/><table class=\"wandb\"><tr><td>Train_acc</td><td>97.79263</td></tr><tr><td>Train_loss</td><td>134.59403</td></tr><tr><td>epoch</td><td>9</td></tr><tr><td>val_Accuracy</td><td>97.45</td></tr><tr><td>val_loss</td><td>0.09142</td></tr></table><br/></div></div>"
            ],
            "text/plain": [
              "<IPython.core.display.HTML object>"
            ]
          },
          "metadata": {}
        },
        {
          "output_type": "display_data",
          "data": {
            "text/html": [
              "Synced <strong style=\"color:#cdcd00\">lucky-capybara-2</strong>: <a href=\"https://wandb.ai/tejoram/mnist-trial/runs/1595y4t6\" target=\"_blank\">https://wandb.ai/tejoram/mnist-trial/runs/1595y4t6</a><br/>Synced 4 W&B file(s), 0 media file(s), 0 artifact file(s) and 0 other file(s)"
            ],
            "text/plain": [
              "<IPython.core.display.HTML object>"
            ]
          },
          "metadata": {}
        },
        {
          "output_type": "display_data",
          "data": {
            "text/html": [
              "Find logs at: <code>./wandb/run-20220302_182249-1595y4t6/logs</code>"
            ],
            "text/plain": [
              "<IPython.core.display.HTML object>"
            ]
          },
          "metadata": {}
        },
        {
          "output_type": "display_data",
          "data": {
            "text/html": [
              "Successfully finished last run (ID:1595y4t6). Initializing new run:<br/>"
            ],
            "text/plain": [
              "<IPython.core.display.HTML object>"
            ]
          },
          "metadata": {}
        },
        {
          "output_type": "display_data",
          "data": {
            "text/html": [
              "Tracking run with wandb version 0.12.11"
            ],
            "text/plain": [
              "<IPython.core.display.HTML object>"
            ]
          },
          "metadata": {}
        },
        {
          "output_type": "display_data",
          "data": {
            "text/html": [
              "Run data is saved locally in <code>/content/wandb/run-20220302_182657-3n4kuddu</code>"
            ],
            "text/plain": [
              "<IPython.core.display.HTML object>"
            ]
          },
          "metadata": {}
        },
        {
          "output_type": "display_data",
          "data": {
            "text/html": [
              "Syncing run <strong><a href=\"https://wandb.ai/tejoram/mnist-trial/runs/3n4kuddu\" target=\"_blank\">efficient-oath-3</a></strong> to <a href=\"https://wandb.ai/tejoram/mnist-trial\" target=\"_blank\">Weights & Biases</a> (<a href=\"https://wandb.me/run\" target=\"_blank\">docs</a>)<br/>"
            ],
            "text/plain": [
              "<IPython.core.display.HTML object>"
            ]
          },
          "metadata": {}
        },
        {
          "output_type": "execute_result",
          "data": {
            "text/plain": [
              "<wandb.sdk.wandb_run.Run at 0x7f2a2e858150>"
            ],
            "text/html": [
              "<button onClick=\"this.nextSibling.style.display='block';this.style.display='none';\">Display W&B run</button><iframe src=\"https://wandb.ai/tejoram/mnist-trial/runs/3n4kuddu?jupyter=true\" style=\"border:none;width:100%;height:420px;display:none;\"></iframe>"
            ]
          },
          "metadata": {},
          "execution_count": 13
        }
      ]
    },
    {
      "cell_type": "code",
      "source": [
        "epochs=10\n",
        "hidden_layers=[128,64,32]\n",
        "learning_rate=0.001\n",
        "weight_decay=0.5\n",
        "optimizer_name='rmsprop'\n",
        "batch_size=16\n",
        "init_type='random'\n",
        "activation_type='ReLU'\n",
        "loss_type='cross_entropy'\n",
        "reg_lamda=0.5\n",
        "wandb.run.name = \"e_{}_hl_{}_lr_{}_wd_{}_o_{}_bs_{}_winit_{}_ac_{}_los_{}_r_{}\".format(epochs,\\\n",
        "                                                                                    hidden_layers,\\\n",
        "                                                                                    learning_rate,\\\n",
        "                                                                                    weight_decay,\\\n",
        "                                                                                    optimizer_name,\\\n",
        "                                                                                    batch_size,\\\n",
        "                                                                                    init_type,\\\n",
        "                                                                                    activation_type,\\\n",
        "                                                                                    loss_type,\\\n",
        "                                                                                    reg_lamda)\n",
        "  \n",
        "_,_,train_loss, train_accuracy, val_loss, val_accuracy = train(X_train, y_train, X_validation, y_validation, 784, hidden_layers, 10, init_type, epochs, batch_size, loss_type, activation_type, optimizer_name, learning_rate, reg_lamda)"
      ],
      "metadata": {
        "id": "-3XIkyy-4bvR"
      },
      "execution_count": 14,
      "outputs": []
    }
  ],
  "metadata": {
    "colab": {
      "collapsed_sections": [],
      "name": "Question_10.ipynb",
      "provenance": [],
      "include_colab_link": true
    },
    "kernelspec": {
      "display_name": "Python 3 (ipykernel)",
      "language": "python",
      "name": "python3"
    },
    "language_info": {
      "codemirror_mode": {
        "name": "ipython",
        "version": 3
      },
      "file_extension": ".py",
      "mimetype": "text/x-python",
      "name": "python",
      "nbconvert_exporter": "python",
      "pygments_lexer": "ipython3",
      "version": "3.7.6"
    },
    "widgets": {
      "application/vnd.jupyter.widget-state+json": {
        "62033d71b20b4cd9b363cd97abdaebcc": {
          "model_module": "@jupyter-widgets/controls",
          "model_name": "VBoxModel",
          "model_module_version": "1.5.0",
          "state": {
            "_view_name": "VBoxView",
            "_dom_classes": [],
            "_model_name": "VBoxModel",
            "_view_module": "@jupyter-widgets/controls",
            "_model_module_version": "1.5.0",
            "_view_count": null,
            "_view_module_version": "1.5.0",
            "box_style": "",
            "layout": "IPY_MODEL_5e703458ff3f48e3bc28e701108636fe",
            "_model_module": "@jupyter-widgets/controls",
            "children": [
              "IPY_MODEL_4a8ae699d3c14d9e98efc7cbef280204",
              "IPY_MODEL_c589c16ebfb9434abfa27a021b45cdbe"
            ]
          }
        },
        "5e703458ff3f48e3bc28e701108636fe": {
          "model_module": "@jupyter-widgets/base",
          "model_name": "LayoutModel",
          "model_module_version": "1.2.0",
          "state": {
            "_view_name": "LayoutView",
            "grid_template_rows": null,
            "right": null,
            "justify_content": null,
            "_view_module": "@jupyter-widgets/base",
            "overflow": null,
            "_model_module_version": "1.2.0",
            "_view_count": null,
            "flex_flow": null,
            "width": null,
            "min_width": null,
            "border": null,
            "align_items": null,
            "bottom": null,
            "_model_module": "@jupyter-widgets/base",
            "top": null,
            "grid_column": null,
            "overflow_y": null,
            "overflow_x": null,
            "grid_auto_flow": null,
            "grid_area": null,
            "grid_template_columns": null,
            "flex": null,
            "_model_name": "LayoutModel",
            "justify_items": null,
            "grid_row": null,
            "max_height": null,
            "align_content": null,
            "visibility": null,
            "align_self": null,
            "height": null,
            "min_height": null,
            "padding": null,
            "grid_auto_rows": null,
            "grid_gap": null,
            "max_width": null,
            "order": null,
            "_view_module_version": "1.2.0",
            "grid_template_areas": null,
            "object_position": null,
            "object_fit": null,
            "grid_auto_columns": null,
            "margin": null,
            "display": null,
            "left": null
          }
        },
        "4a8ae699d3c14d9e98efc7cbef280204": {
          "model_module": "@jupyter-widgets/controls",
          "model_name": "LabelModel",
          "model_module_version": "1.5.0",
          "state": {
            "_view_name": "LabelView",
            "style": "IPY_MODEL_97f83b250ddf409da626ed370b7f368f",
            "_dom_classes": [],
            "description": "",
            "_model_name": "LabelModel",
            "placeholder": "​",
            "_view_module": "@jupyter-widgets/controls",
            "_model_module_version": "1.5.0",
            "value": "0.008 MB of 0.008 MB uploaded (0.000 MB deduped)\r",
            "_view_count": null,
            "_view_module_version": "1.5.0",
            "description_tooltip": null,
            "_model_module": "@jupyter-widgets/controls",
            "layout": "IPY_MODEL_2b19482f01994878952a95ef0cbb6d92"
          }
        },
        "c589c16ebfb9434abfa27a021b45cdbe": {
          "model_module": "@jupyter-widgets/controls",
          "model_name": "FloatProgressModel",
          "model_module_version": "1.5.0",
          "state": {
            "_view_name": "ProgressView",
            "style": "IPY_MODEL_d81caa4ca0f346519b6a27b54a4e1825",
            "_dom_classes": [],
            "description": "",
            "_model_name": "FloatProgressModel",
            "bar_style": "",
            "max": 1,
            "_view_module": "@jupyter-widgets/controls",
            "_model_module_version": "1.5.0",
            "value": 1,
            "_view_count": null,
            "_view_module_version": "1.5.0",
            "orientation": "horizontal",
            "min": 0,
            "description_tooltip": null,
            "_model_module": "@jupyter-widgets/controls",
            "layout": "IPY_MODEL_014c1d8e561c48978a1deda391e6ab9b"
          }
        },
        "97f83b250ddf409da626ed370b7f368f": {
          "model_module": "@jupyter-widgets/controls",
          "model_name": "DescriptionStyleModel",
          "model_module_version": "1.5.0",
          "state": {
            "_view_name": "StyleView",
            "_model_name": "DescriptionStyleModel",
            "description_width": "",
            "_view_module": "@jupyter-widgets/base",
            "_model_module_version": "1.5.0",
            "_view_count": null,
            "_view_module_version": "1.2.0",
            "_model_module": "@jupyter-widgets/controls"
          }
        },
        "2b19482f01994878952a95ef0cbb6d92": {
          "model_module": "@jupyter-widgets/base",
          "model_name": "LayoutModel",
          "model_module_version": "1.2.0",
          "state": {
            "_view_name": "LayoutView",
            "grid_template_rows": null,
            "right": null,
            "justify_content": null,
            "_view_module": "@jupyter-widgets/base",
            "overflow": null,
            "_model_module_version": "1.2.0",
            "_view_count": null,
            "flex_flow": null,
            "width": null,
            "min_width": null,
            "border": null,
            "align_items": null,
            "bottom": null,
            "_model_module": "@jupyter-widgets/base",
            "top": null,
            "grid_column": null,
            "overflow_y": null,
            "overflow_x": null,
            "grid_auto_flow": null,
            "grid_area": null,
            "grid_template_columns": null,
            "flex": null,
            "_model_name": "LayoutModel",
            "justify_items": null,
            "grid_row": null,
            "max_height": null,
            "align_content": null,
            "visibility": null,
            "align_self": null,
            "height": null,
            "min_height": null,
            "padding": null,
            "grid_auto_rows": null,
            "grid_gap": null,
            "max_width": null,
            "order": null,
            "_view_module_version": "1.2.0",
            "grid_template_areas": null,
            "object_position": null,
            "object_fit": null,
            "grid_auto_columns": null,
            "margin": null,
            "display": null,
            "left": null
          }
        },
        "d81caa4ca0f346519b6a27b54a4e1825": {
          "model_module": "@jupyter-widgets/controls",
          "model_name": "ProgressStyleModel",
          "model_module_version": "1.5.0",
          "state": {
            "_view_name": "StyleView",
            "_model_name": "ProgressStyleModel",
            "description_width": "",
            "_view_module": "@jupyter-widgets/base",
            "_model_module_version": "1.5.0",
            "_view_count": null,
            "_view_module_version": "1.2.0",
            "bar_color": null,
            "_model_module": "@jupyter-widgets/controls"
          }
        },
        "014c1d8e561c48978a1deda391e6ab9b": {
          "model_module": "@jupyter-widgets/base",
          "model_name": "LayoutModel",
          "model_module_version": "1.2.0",
          "state": {
            "_view_name": "LayoutView",
            "grid_template_rows": null,
            "right": null,
            "justify_content": null,
            "_view_module": "@jupyter-widgets/base",
            "overflow": null,
            "_model_module_version": "1.2.0",
            "_view_count": null,
            "flex_flow": null,
            "width": null,
            "min_width": null,
            "border": null,
            "align_items": null,
            "bottom": null,
            "_model_module": "@jupyter-widgets/base",
            "top": null,
            "grid_column": null,
            "overflow_y": null,
            "overflow_x": null,
            "grid_auto_flow": null,
            "grid_area": null,
            "grid_template_columns": null,
            "flex": null,
            "_model_name": "LayoutModel",
            "justify_items": null,
            "grid_row": null,
            "max_height": null,
            "align_content": null,
            "visibility": null,
            "align_self": null,
            "height": null,
            "min_height": null,
            "padding": null,
            "grid_auto_rows": null,
            "grid_gap": null,
            "max_width": null,
            "order": null,
            "_view_module_version": "1.2.0",
            "grid_template_areas": null,
            "object_position": null,
            "object_fit": null,
            "grid_auto_columns": null,
            "margin": null,
            "display": null,
            "left": null
          }
        },
        "afc93eb0eafe4c76b6d6276f70bdde02": {
          "model_module": "@jupyter-widgets/controls",
          "model_name": "VBoxModel",
          "model_module_version": "1.5.0",
          "state": {
            "_view_name": "VBoxView",
            "_dom_classes": [],
            "_model_name": "VBoxModel",
            "_view_module": "@jupyter-widgets/controls",
            "_model_module_version": "1.5.0",
            "_view_count": null,
            "_view_module_version": "1.5.0",
            "box_style": "",
            "layout": "IPY_MODEL_102276335f26429d95c71910192823bc",
            "_model_module": "@jupyter-widgets/controls",
            "children": [
              "IPY_MODEL_fb0eb50464d245cba046a343f9251288",
              "IPY_MODEL_06c3576cb9004314964a604158f99c84"
            ]
          }
        },
        "102276335f26429d95c71910192823bc": {
          "model_module": "@jupyter-widgets/base",
          "model_name": "LayoutModel",
          "model_module_version": "1.2.0",
          "state": {
            "_view_name": "LayoutView",
            "grid_template_rows": null,
            "right": null,
            "justify_content": null,
            "_view_module": "@jupyter-widgets/base",
            "overflow": null,
            "_model_module_version": "1.2.0",
            "_view_count": null,
            "flex_flow": null,
            "width": null,
            "min_width": null,
            "border": null,
            "align_items": null,
            "bottom": null,
            "_model_module": "@jupyter-widgets/base",
            "top": null,
            "grid_column": null,
            "overflow_y": null,
            "overflow_x": null,
            "grid_auto_flow": null,
            "grid_area": null,
            "grid_template_columns": null,
            "flex": null,
            "_model_name": "LayoutModel",
            "justify_items": null,
            "grid_row": null,
            "max_height": null,
            "align_content": null,
            "visibility": null,
            "align_self": null,
            "height": null,
            "min_height": null,
            "padding": null,
            "grid_auto_rows": null,
            "grid_gap": null,
            "max_width": null,
            "order": null,
            "_view_module_version": "1.2.0",
            "grid_template_areas": null,
            "object_position": null,
            "object_fit": null,
            "grid_auto_columns": null,
            "margin": null,
            "display": null,
            "left": null
          }
        },
        "fb0eb50464d245cba046a343f9251288": {
          "model_module": "@jupyter-widgets/controls",
          "model_name": "LabelModel",
          "model_module_version": "1.5.0",
          "state": {
            "_view_name": "LabelView",
            "style": "IPY_MODEL_5f742d7ea381420fa3af59b9c898e797",
            "_dom_classes": [],
            "description": "",
            "_model_name": "LabelModel",
            "placeholder": "​",
            "_view_module": "@jupyter-widgets/controls",
            "_model_module_version": "1.5.0",
            "value": "0.008 MB of 0.008 MB uploaded (0.000 MB deduped)\r",
            "_view_count": null,
            "_view_module_version": "1.5.0",
            "description_tooltip": null,
            "_model_module": "@jupyter-widgets/controls",
            "layout": "IPY_MODEL_534a97c9e04143b0881cad91fa05fa07"
          }
        },
        "06c3576cb9004314964a604158f99c84": {
          "model_module": "@jupyter-widgets/controls",
          "model_name": "FloatProgressModel",
          "model_module_version": "1.5.0",
          "state": {
            "_view_name": "ProgressView",
            "style": "IPY_MODEL_72b1cfaf9e8849fab4a71d5960938768",
            "_dom_classes": [],
            "description": "",
            "_model_name": "FloatProgressModel",
            "bar_style": "",
            "max": 1,
            "_view_module": "@jupyter-widgets/controls",
            "_model_module_version": "1.5.0",
            "value": 1,
            "_view_count": null,
            "_view_module_version": "1.5.0",
            "orientation": "horizontal",
            "min": 0,
            "description_tooltip": null,
            "_model_module": "@jupyter-widgets/controls",
            "layout": "IPY_MODEL_aa99e00585c946538763a0bd8138933b"
          }
        },
        "5f742d7ea381420fa3af59b9c898e797": {
          "model_module": "@jupyter-widgets/controls",
          "model_name": "DescriptionStyleModel",
          "model_module_version": "1.5.0",
          "state": {
            "_view_name": "StyleView",
            "_model_name": "DescriptionStyleModel",
            "description_width": "",
            "_view_module": "@jupyter-widgets/base",
            "_model_module_version": "1.5.0",
            "_view_count": null,
            "_view_module_version": "1.2.0",
            "_model_module": "@jupyter-widgets/controls"
          }
        },
        "534a97c9e04143b0881cad91fa05fa07": {
          "model_module": "@jupyter-widgets/base",
          "model_name": "LayoutModel",
          "model_module_version": "1.2.0",
          "state": {
            "_view_name": "LayoutView",
            "grid_template_rows": null,
            "right": null,
            "justify_content": null,
            "_view_module": "@jupyter-widgets/base",
            "overflow": null,
            "_model_module_version": "1.2.0",
            "_view_count": null,
            "flex_flow": null,
            "width": null,
            "min_width": null,
            "border": null,
            "align_items": null,
            "bottom": null,
            "_model_module": "@jupyter-widgets/base",
            "top": null,
            "grid_column": null,
            "overflow_y": null,
            "overflow_x": null,
            "grid_auto_flow": null,
            "grid_area": null,
            "grid_template_columns": null,
            "flex": null,
            "_model_name": "LayoutModel",
            "justify_items": null,
            "grid_row": null,
            "max_height": null,
            "align_content": null,
            "visibility": null,
            "align_self": null,
            "height": null,
            "min_height": null,
            "padding": null,
            "grid_auto_rows": null,
            "grid_gap": null,
            "max_width": null,
            "order": null,
            "_view_module_version": "1.2.0",
            "grid_template_areas": null,
            "object_position": null,
            "object_fit": null,
            "grid_auto_columns": null,
            "margin": null,
            "display": null,
            "left": null
          }
        },
        "72b1cfaf9e8849fab4a71d5960938768": {
          "model_module": "@jupyter-widgets/controls",
          "model_name": "ProgressStyleModel",
          "model_module_version": "1.5.0",
          "state": {
            "_view_name": "StyleView",
            "_model_name": "ProgressStyleModel",
            "description_width": "",
            "_view_module": "@jupyter-widgets/base",
            "_model_module_version": "1.5.0",
            "_view_count": null,
            "_view_module_version": "1.2.0",
            "bar_color": null,
            "_model_module": "@jupyter-widgets/controls"
          }
        },
        "aa99e00585c946538763a0bd8138933b": {
          "model_module": "@jupyter-widgets/base",
          "model_name": "LayoutModel",
          "model_module_version": "1.2.0",
          "state": {
            "_view_name": "LayoutView",
            "grid_template_rows": null,
            "right": null,
            "justify_content": null,
            "_view_module": "@jupyter-widgets/base",
            "overflow": null,
            "_model_module_version": "1.2.0",
            "_view_count": null,
            "flex_flow": null,
            "width": null,
            "min_width": null,
            "border": null,
            "align_items": null,
            "bottom": null,
            "_model_module": "@jupyter-widgets/base",
            "top": null,
            "grid_column": null,
            "overflow_y": null,
            "overflow_x": null,
            "grid_auto_flow": null,
            "grid_area": null,
            "grid_template_columns": null,
            "flex": null,
            "_model_name": "LayoutModel",
            "justify_items": null,
            "grid_row": null,
            "max_height": null,
            "align_content": null,
            "visibility": null,
            "align_self": null,
            "height": null,
            "min_height": null,
            "padding": null,
            "grid_auto_rows": null,
            "grid_gap": null,
            "max_width": null,
            "order": null,
            "_view_module_version": "1.2.0",
            "grid_template_areas": null,
            "object_position": null,
            "object_fit": null,
            "grid_auto_columns": null,
            "margin": null,
            "display": null,
            "left": null
          }
        }
      }
    }
  },
  "nbformat": 4,
  "nbformat_minor": 0
}