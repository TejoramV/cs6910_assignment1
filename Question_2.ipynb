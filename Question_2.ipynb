{
  "nbformat": 4,
  "nbformat_minor": 0,
  "metadata": {
    "colab": {
      "name": "Question_2.ipynb",
      "provenance": [],
      "collapsed_sections": []
    },
    "kernelspec": {
      "name": "python3",
      "display_name": "Python 3"
    },
    "language_info": {
      "name": "python"
    }
  },
  "cells": [
    {
      "cell_type": "code",
      "execution_count": 1,
      "metadata": {
        "id": "HG3XgEbbzTBu"
      },
      "outputs": [],
      "source": [
        "from keras.datasets import fashion_mnist\n",
        "import numpy as np\n",
        "from  matplotlib import pyplot as plt\n",
        "import time\n",
        "import math\n",
        "from sklearn.model_selection import train_test_split"
      ]
    },
    {
      "cell_type": "code",
      "source": [
        ""
      ],
      "metadata": {
        "id": "tClXIrWCzYan"
      },
      "execution_count": 2,
      "outputs": []
    },
    {
      "cell_type": "markdown",
      "source": [
        "### Loading Dataset"
      ],
      "metadata": {
        "id": "uCoasO8Czc7n"
      }
    },
    {
      "cell_type": "code",
      "source": [
        "dataset= fashion_mnist.load_data()\n",
        "(X_train_and_validation, y_train_and_validation), (X_test, y_test) = dataset\n",
        "X_train, X_validation, y_train, y_validation = train_test_split(X_train_and_validation, y_train_and_validation, test_size=0.1, random_state=42)\n",
        "X_train = (X_train/255.0).astype(np.float32)\n",
        "X_validation = (X_validation/255.0).astype(np.float32)\n",
        "X_test = (X_test/255.0).astype(np.float32)\n",
        "\n",
        "X_train = np.array(X_train.reshape(X_train.shape[0], 784,1))         \n",
        "X_test = np.array(X_test.reshape(X_test.shape[0], 784,1))\n",
        "X_validation = np.array(X_validation.reshape(X_validation.shape[0], 784,1))"
      ],
      "metadata": {
        "colab": {
          "base_uri": "https://localhost:8080/"
        },
        "id": "QQqmOEs0zWYp",
        "outputId": "7a20a33b-8c86-4b1d-efc7-dc2c7db81873"
      },
      "execution_count": 3,
      "outputs": [
        {
          "output_type": "stream",
          "name": "stdout",
          "text": [
            "Downloading data from https://storage.googleapis.com/tensorflow/tf-keras-datasets/train-labels-idx1-ubyte.gz\n",
            "32768/29515 [=================================] - 0s 0us/step\n",
            "40960/29515 [=========================================] - 0s 1us/step\n",
            "Downloading data from https://storage.googleapis.com/tensorflow/tf-keras-datasets/train-images-idx3-ubyte.gz\n",
            "26427392/26421880 [==============================] - 0s 0us/step\n",
            "26435584/26421880 [==============================] - 0s 0us/step\n",
            "Downloading data from https://storage.googleapis.com/tensorflow/tf-keras-datasets/t10k-labels-idx1-ubyte.gz\n",
            "16384/5148 [===============================================================================================] - 0s 0us/step\n",
            "Downloading data from https://storage.googleapis.com/tensorflow/tf-keras-datasets/t10k-images-idx3-ubyte.gz\n",
            "4423680/4422102 [==============================] - 0s 0us/step\n",
            "4431872/4422102 [==============================] - 0s 0us/step\n"
          ]
        }
      ]
    },
    {
      "cell_type": "code",
      "source": [
        "#Activation function\n",
        "def activation(activation_function):\n",
        "  if activation_function == 'sigmoid':\n",
        "    return sigmoid\n",
        "  if activation_function == 'tanh':\n",
        "    return tanh\n",
        "  if activation_function == 'ReLU':\n",
        "    return relu\n",
        "\n",
        "def sigmoid(x, derivative = False):\n",
        "  if derivative:\n",
        "    return sigmoid(x)*(1-sigmoid(x))\n",
        "  return 1/(1 + np.exp(-x))  \n",
        "\n",
        "def tanh(x, derivative = False):\n",
        "  if derivative:\n",
        "    return 1 - tanh(x)**2\n",
        "  return (np.exp(x)-np.exp(-x))/(np.exp(x)+np.exp(-x))\n",
        "\n",
        "def relu(x, derivative = False):\n",
        "  if derivative:\n",
        "    return (x>0)*1 \n",
        "  return x*(x>0)\n",
        "\n",
        "def softmax(x,derivative = False):\n",
        "  if derivative:\n",
        "    return softmax(x)*(1- softmax(x))\n",
        "  return np.exp(x)/np.sum(np.exp(x), axis = 0)\n",
        "\n",
        "def one_hot(y, num_output_nodes):\n",
        "  v = np.zeros((num_output_nodes, len(y)))\n",
        "  for i,j in enumerate(y):\n",
        "    v[j,i] = 1\n",
        "  return v"
      ],
      "metadata": {
        "id": "5zGS5KHPzfaG"
      },
      "execution_count": 4,
      "outputs": []
    },
    {
      "cell_type": "code",
      "source": [
        "### Initialization of Weights\n",
        "def param_inint(num_inputs_nodes, hidden_layers, num_output_nodes, init_type):\n",
        "  W = []\n",
        "  B = []\n",
        "  if init_type == \"random\":\n",
        "    W.append(np.random.randn(hidden_layers[0],num_inputs_nodes)*0.1)\n",
        "    B.append(np.random.randn(hidden_layers[0], 1)*0.1)\n",
        "    for i in range(len(hidden_layers)-1):\n",
        "      W.append(np.random.randn(hidden_layers[i+1],hidden_layers[i])*0.1)\n",
        "      B.append(np.random.randn(hidden_layers[i+1], 1)*0.1)\n",
        "    W.append(np.random.randn(num_output_nodes, hidden_layers[-1])*0.1)\n",
        "    B.append(np.random.randn(num_output_nodes, 1)*0.1)\n",
        "    return W, B\n",
        "\n",
        "  if init_type == \"xavier\":\n",
        "    W.append(np.random.randn(hidden_layers[0],num_inputs_nodes)*np.sqrt(2/(hidden_layers[0] + num_inputs_nodes)))\n",
        "    B.append(np.random.randn(hidden_layers[0], 1)*0.1)\n",
        "    for i in range(len(hidden_layers)-1):\n",
        "      W.append(np.random.randn(hidden_layers[i+1],hidden_layers[i])*np.sqrt(2/(hidden_layers[i+1] + hidden_layers[i])))\n",
        "      B.append(np.random.randn(hidden_layers[i+1], 1)*0.1)\n",
        "    W.append(np.random.randn(num_output_nodes, hidden_layers[-1])*np.sqrt(2/(num_output_nodes + hidden_layers[-1])))\n",
        "    B.append(np.random.randn(num_output_nodes, 1)*0.1)\n",
        "    return W, B\n"
      ],
      "metadata": {
        "id": "kuBc16LPziEZ"
      },
      "execution_count": 5,
      "outputs": []
    },
    {
      "cell_type": "markdown",
      "source": [
        "### Feed Forward Network"
      ],
      "metadata": {
        "id": "eyB7KsEp0O08"
      }
    },
    {
      "cell_type": "code",
      "source": [
        "def feed_forward(x, W, B, activation_type):\n",
        "  h = []\n",
        "  a = []\n",
        "  sigma = activation(activation_type)  #activation\n",
        "  h.append(x)   #h0 = x\n",
        "  a.append(np.dot(W[0], h[0]) + B[0])\n",
        "  for i in range(len(W)-1):\n",
        "    h.append(sigma(a[-1]))\n",
        "    a.append(np.dot(W[i+1], h[-1]) + B[i+1])\n",
        "  y_hat = softmax(a[-1])\n",
        "\n",
        "  return y_hat, h, a\n"
      ],
      "metadata": {
        "id": "dMUKyTUgzre4"
      },
      "execution_count": 6,
      "outputs": []
    },
    {
      "cell_type": "code",
      "source": [
        "num_inputs_nodes = 784                                                          # Input nodes 28 x 28 image\n",
        "hidden_layers = [64,32,16]                                                      #3 hidden layers with 64, 32, 16 as nodes\n",
        "num_output_nodes = 10                                                           # 10 classes\n",
        "init_type = \"xavier\"\n",
        "activation_type = \"tanh\"\n",
        "\n",
        "x = np.squeeze(X_train[5, :]).reshape(784,1)                                    # taking one training example; we can take multiple examples(batch) also\n",
        "\n",
        "W_initial, B_initial = param_inint(num_inputs_nodes, hidden_layers, num_output_nodes, init_type) # weight initialization\n",
        "\n",
        "y_hat, h, a = feed_forward(x, W_initial, B_initial, activation_type)\n"
      ],
      "metadata": {
        "id": "9xNzXBs6zyZC"
      },
      "execution_count": 11,
      "outputs": []
    },
    {
      "cell_type": "code",
      "source": [
        "print(y_hat)  # Prediction on one training example"
      ],
      "metadata": {
        "colab": {
          "base_uri": "https://localhost:8080/"
        },
        "id": "aWBpI-gn1gs2",
        "outputId": "078bb6af-9e20-487c-d251-104c24ba3ecc"
      },
      "execution_count": 12,
      "outputs": [
        {
          "output_type": "stream",
          "name": "stdout",
          "text": [
            "[[0.08056535]\n",
            " [0.06034125]\n",
            " [0.16556654]\n",
            " [0.13946036]\n",
            " [0.12007072]\n",
            " [0.1294739 ]\n",
            " [0.09675075]\n",
            " [0.09587671]\n",
            " [0.09062571]\n",
            " [0.0212687 ]]\n"
          ]
        }
      ]
    },
    {
      "cell_type": "code",
      "source": [
        ""
      ],
      "metadata": {
        "id": "xTz2UAKG1wU9"
      },
      "execution_count": null,
      "outputs": []
    }
  ]
}